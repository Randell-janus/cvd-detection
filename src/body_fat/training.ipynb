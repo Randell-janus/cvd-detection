{
  "nbformat": 4,
  "nbformat_minor": 2,
  "metadata": {
    "colab": {
      "name": "body_fat_prediction",
      "provenance": [],
      "collapsed_sections": []
    },
    "kernelspec": {
      "name": "python3",
      "display_name": "Python 3.8.5 64-bit ('base': conda)"
    },
    "language_info": {
      "name": "python",
      "version": "3.8.5",
      "mimetype": "text/x-python",
      "codemirror_mode": {
        "name": "ipython",
        "version": 3
      },
      "pygments_lexer": "ipython3",
      "nbconvert_exporter": "python",
      "file_extension": ".py"
    },
    "interpreter": {
      "hash": "6d46af94c2bbce495f1e668725902fa517c90b1782bcfe2fce0dd9868df553d3"
    }
  },
  "cells": [
    {
      "cell_type": "code",
      "execution_count": 25,
      "source": [
        "# from google.colab import drive\r\n",
        "# drive.mount('/content/drive')"
      ],
      "outputs": [],
      "metadata": {
        "colab": {
          "base_uri": "https://localhost:8080/"
        },
        "id": "wFgiremiMBsU",
        "outputId": "5fe8eba9-ced5-4b8c-99a0-a18724e358b7"
      }
    },
    {
      "cell_type": "markdown",
      "source": [
        "### Standard Imports"
      ],
      "metadata": {
        "id": "79Y7IiDaOBW-"
      }
    },
    {
      "cell_type": "code",
      "execution_count": 26,
      "source": [
        "import pandas as pd\r\n",
        "import numpy as np\r\n",
        "import matplotlib.pyplot as plt\r\n",
        "import seaborn as sns"
      ],
      "outputs": [],
      "metadata": {
        "id": "BsF4W7KTM9qu"
      }
    },
    {
      "cell_type": "markdown",
      "source": [
        "### Explore Data"
      ],
      "metadata": {}
    },
    {
      "cell_type": "code",
      "execution_count": 27,
      "source": [
        "df = pd.read_csv('data.csv')\r\n",
        "df.head()"
      ],
      "outputs": [
        {
          "output_type": "execute_result",
          "data": {
            "text/html": [
              "<div>\n",
              "<style scoped>\n",
              "    .dataframe tbody tr th:only-of-type {\n",
              "        vertical-align: middle;\n",
              "    }\n",
              "\n",
              "    .dataframe tbody tr th {\n",
              "        vertical-align: top;\n",
              "    }\n",
              "\n",
              "    .dataframe thead th {\n",
              "        text-align: right;\n",
              "    }\n",
              "</style>\n",
              "<table border=\"1\" class=\"dataframe\">\n",
              "  <thead>\n",
              "    <tr style=\"text-align: right;\">\n",
              "      <th></th>\n",
              "      <th>Density</th>\n",
              "      <th>BodyFat</th>\n",
              "      <th>Age</th>\n",
              "      <th>Weight</th>\n",
              "      <th>Height</th>\n",
              "      <th>Neck</th>\n",
              "      <th>Chest</th>\n",
              "      <th>Abdomen</th>\n",
              "      <th>Hip</th>\n",
              "      <th>Thigh</th>\n",
              "      <th>Knee</th>\n",
              "      <th>Ankle</th>\n",
              "      <th>Biceps</th>\n",
              "      <th>Forearm</th>\n",
              "      <th>Wrist</th>\n",
              "    </tr>\n",
              "  </thead>\n",
              "  <tbody>\n",
              "    <tr>\n",
              "      <th>0</th>\n",
              "      <td>1.0708</td>\n",
              "      <td>12.3</td>\n",
              "      <td>23</td>\n",
              "      <td>154.25</td>\n",
              "      <td>67.75</td>\n",
              "      <td>36.2</td>\n",
              "      <td>93.1</td>\n",
              "      <td>85.2</td>\n",
              "      <td>94.5</td>\n",
              "      <td>59.0</td>\n",
              "      <td>37.3</td>\n",
              "      <td>21.9</td>\n",
              "      <td>32.0</td>\n",
              "      <td>27.4</td>\n",
              "      <td>17.1</td>\n",
              "    </tr>\n",
              "    <tr>\n",
              "      <th>1</th>\n",
              "      <td>1.0853</td>\n",
              "      <td>6.1</td>\n",
              "      <td>22</td>\n",
              "      <td>173.25</td>\n",
              "      <td>72.25</td>\n",
              "      <td>38.5</td>\n",
              "      <td>93.6</td>\n",
              "      <td>83.0</td>\n",
              "      <td>98.7</td>\n",
              "      <td>58.7</td>\n",
              "      <td>37.3</td>\n",
              "      <td>23.4</td>\n",
              "      <td>30.5</td>\n",
              "      <td>28.9</td>\n",
              "      <td>18.2</td>\n",
              "    </tr>\n",
              "    <tr>\n",
              "      <th>2</th>\n",
              "      <td>1.0414</td>\n",
              "      <td>25.3</td>\n",
              "      <td>22</td>\n",
              "      <td>154.00</td>\n",
              "      <td>66.25</td>\n",
              "      <td>34.0</td>\n",
              "      <td>95.8</td>\n",
              "      <td>87.9</td>\n",
              "      <td>99.2</td>\n",
              "      <td>59.6</td>\n",
              "      <td>38.9</td>\n",
              "      <td>24.0</td>\n",
              "      <td>28.8</td>\n",
              "      <td>25.2</td>\n",
              "      <td>16.6</td>\n",
              "    </tr>\n",
              "    <tr>\n",
              "      <th>3</th>\n",
              "      <td>1.0751</td>\n",
              "      <td>10.4</td>\n",
              "      <td>26</td>\n",
              "      <td>184.75</td>\n",
              "      <td>72.25</td>\n",
              "      <td>37.4</td>\n",
              "      <td>101.8</td>\n",
              "      <td>86.4</td>\n",
              "      <td>101.2</td>\n",
              "      <td>60.1</td>\n",
              "      <td>37.3</td>\n",
              "      <td>22.8</td>\n",
              "      <td>32.4</td>\n",
              "      <td>29.4</td>\n",
              "      <td>18.2</td>\n",
              "    </tr>\n",
              "    <tr>\n",
              "      <th>4</th>\n",
              "      <td>1.0340</td>\n",
              "      <td>28.7</td>\n",
              "      <td>24</td>\n",
              "      <td>184.25</td>\n",
              "      <td>71.25</td>\n",
              "      <td>34.4</td>\n",
              "      <td>97.3</td>\n",
              "      <td>100.0</td>\n",
              "      <td>101.9</td>\n",
              "      <td>63.2</td>\n",
              "      <td>42.2</td>\n",
              "      <td>24.0</td>\n",
              "      <td>32.2</td>\n",
              "      <td>27.7</td>\n",
              "      <td>17.7</td>\n",
              "    </tr>\n",
              "  </tbody>\n",
              "</table>\n",
              "</div>"
            ],
            "text/plain": [
              "   Density  BodyFat  Age  Weight  Height  Neck  Chest  Abdomen    Hip  Thigh  \\\n",
              "0   1.0708     12.3   23  154.25   67.75  36.2   93.1     85.2   94.5   59.0   \n",
              "1   1.0853      6.1   22  173.25   72.25  38.5   93.6     83.0   98.7   58.7   \n",
              "2   1.0414     25.3   22  154.00   66.25  34.0   95.8     87.9   99.2   59.6   \n",
              "3   1.0751     10.4   26  184.75   72.25  37.4  101.8     86.4  101.2   60.1   \n",
              "4   1.0340     28.7   24  184.25   71.25  34.4   97.3    100.0  101.9   63.2   \n",
              "\n",
              "   Knee  Ankle  Biceps  Forearm  Wrist  \n",
              "0  37.3   21.9    32.0     27.4   17.1  \n",
              "1  37.3   23.4    30.5     28.9   18.2  \n",
              "2  38.9   24.0    28.8     25.2   16.6  \n",
              "3  37.3   22.8    32.4     29.4   18.2  \n",
              "4  42.2   24.0    32.2     27.7   17.7  "
            ]
          },
          "metadata": {},
          "execution_count": 27
        }
      ],
      "metadata": {
        "colab": {
          "base_uri": "https://localhost:8080/",
          "height": 206
        },
        "id": "Wv1dFksfM9tV",
        "outputId": "2e47df7a-f6d6-4b18-9979-db6dd2055466"
      }
    },
    {
      "cell_type": "code",
      "execution_count": 28,
      "source": [
        "df.shape"
      ],
      "outputs": [
        {
          "output_type": "execute_result",
          "data": {
            "text/plain": [
              "(252, 15)"
            ]
          },
          "metadata": {},
          "execution_count": 28
        }
      ],
      "metadata": {
        "colab": {
          "base_uri": "https://localhost:8080/"
        },
        "id": "5qFknZ3zM9x2",
        "outputId": "c52cdf92-c0dc-4858-96d1-f4e46e2835a9"
      }
    },
    {
      "cell_type": "code",
      "execution_count": 29,
      "source": [
        "df.info()"
      ],
      "outputs": [
        {
          "output_type": "stream",
          "name": "stdout",
          "text": [
            "<class 'pandas.core.frame.DataFrame'>\n",
            "RangeIndex: 252 entries, 0 to 251\n",
            "Data columns (total 15 columns):\n",
            " #   Column   Non-Null Count  Dtype  \n",
            "---  ------   --------------  -----  \n",
            " 0   Density  252 non-null    float64\n",
            " 1   BodyFat  252 non-null    float64\n",
            " 2   Age      252 non-null    int64  \n",
            " 3   Weight   252 non-null    float64\n",
            " 4   Height   252 non-null    float64\n",
            " 5   Neck     252 non-null    float64\n",
            " 6   Chest    252 non-null    float64\n",
            " 7   Abdomen  252 non-null    float64\n",
            " 8   Hip      252 non-null    float64\n",
            " 9   Thigh    252 non-null    float64\n",
            " 10  Knee     252 non-null    float64\n",
            " 11  Ankle    252 non-null    float64\n",
            " 12  Biceps   252 non-null    float64\n",
            " 13  Forearm  252 non-null    float64\n",
            " 14  Wrist    252 non-null    float64\n",
            "dtypes: float64(14), int64(1)\n",
            "memory usage: 29.7 KB\n"
          ]
        }
      ],
      "metadata": {
        "colab": {
          "base_uri": "https://localhost:8080/"
        },
        "id": "7pNA0AZMN76O",
        "outputId": "c5389526-4cf8-43db-959a-50d76785a9e2"
      }
    },
    {
      "cell_type": "code",
      "execution_count": 30,
      "source": [
        "df.describe()"
      ],
      "outputs": [
        {
          "output_type": "execute_result",
          "data": {
            "text/html": [
              "<div>\n",
              "<style scoped>\n",
              "    .dataframe tbody tr th:only-of-type {\n",
              "        vertical-align: middle;\n",
              "    }\n",
              "\n",
              "    .dataframe tbody tr th {\n",
              "        vertical-align: top;\n",
              "    }\n",
              "\n",
              "    .dataframe thead th {\n",
              "        text-align: right;\n",
              "    }\n",
              "</style>\n",
              "<table border=\"1\" class=\"dataframe\">\n",
              "  <thead>\n",
              "    <tr style=\"text-align: right;\">\n",
              "      <th></th>\n",
              "      <th>Density</th>\n",
              "      <th>BodyFat</th>\n",
              "      <th>Age</th>\n",
              "      <th>Weight</th>\n",
              "      <th>Height</th>\n",
              "      <th>Neck</th>\n",
              "      <th>Chest</th>\n",
              "      <th>Abdomen</th>\n",
              "      <th>Hip</th>\n",
              "      <th>Thigh</th>\n",
              "      <th>Knee</th>\n",
              "      <th>Ankle</th>\n",
              "      <th>Biceps</th>\n",
              "      <th>Forearm</th>\n",
              "      <th>Wrist</th>\n",
              "    </tr>\n",
              "  </thead>\n",
              "  <tbody>\n",
              "    <tr>\n",
              "      <th>count</th>\n",
              "      <td>252.000000</td>\n",
              "      <td>252.000000</td>\n",
              "      <td>252.000000</td>\n",
              "      <td>252.000000</td>\n",
              "      <td>252.000000</td>\n",
              "      <td>252.000000</td>\n",
              "      <td>252.000000</td>\n",
              "      <td>252.000000</td>\n",
              "      <td>252.000000</td>\n",
              "      <td>252.000000</td>\n",
              "      <td>252.000000</td>\n",
              "      <td>252.000000</td>\n",
              "      <td>252.000000</td>\n",
              "      <td>252.000000</td>\n",
              "      <td>252.000000</td>\n",
              "    </tr>\n",
              "    <tr>\n",
              "      <th>mean</th>\n",
              "      <td>1.055574</td>\n",
              "      <td>19.150794</td>\n",
              "      <td>44.884921</td>\n",
              "      <td>178.924405</td>\n",
              "      <td>70.148810</td>\n",
              "      <td>37.992063</td>\n",
              "      <td>100.824206</td>\n",
              "      <td>92.555952</td>\n",
              "      <td>99.904762</td>\n",
              "      <td>59.405952</td>\n",
              "      <td>38.590476</td>\n",
              "      <td>23.102381</td>\n",
              "      <td>32.273413</td>\n",
              "      <td>28.663889</td>\n",
              "      <td>18.229762</td>\n",
              "    </tr>\n",
              "    <tr>\n",
              "      <th>std</th>\n",
              "      <td>0.019031</td>\n",
              "      <td>8.368740</td>\n",
              "      <td>12.602040</td>\n",
              "      <td>29.389160</td>\n",
              "      <td>3.662856</td>\n",
              "      <td>2.430913</td>\n",
              "      <td>8.430476</td>\n",
              "      <td>10.783077</td>\n",
              "      <td>7.164058</td>\n",
              "      <td>5.249952</td>\n",
              "      <td>2.411805</td>\n",
              "      <td>1.694893</td>\n",
              "      <td>3.021274</td>\n",
              "      <td>2.020691</td>\n",
              "      <td>0.933585</td>\n",
              "    </tr>\n",
              "    <tr>\n",
              "      <th>min</th>\n",
              "      <td>0.995000</td>\n",
              "      <td>0.000000</td>\n",
              "      <td>22.000000</td>\n",
              "      <td>118.500000</td>\n",
              "      <td>29.500000</td>\n",
              "      <td>31.100000</td>\n",
              "      <td>79.300000</td>\n",
              "      <td>69.400000</td>\n",
              "      <td>85.000000</td>\n",
              "      <td>47.200000</td>\n",
              "      <td>33.000000</td>\n",
              "      <td>19.100000</td>\n",
              "      <td>24.800000</td>\n",
              "      <td>21.000000</td>\n",
              "      <td>15.800000</td>\n",
              "    </tr>\n",
              "    <tr>\n",
              "      <th>25%</th>\n",
              "      <td>1.041400</td>\n",
              "      <td>12.475000</td>\n",
              "      <td>35.750000</td>\n",
              "      <td>159.000000</td>\n",
              "      <td>68.250000</td>\n",
              "      <td>36.400000</td>\n",
              "      <td>94.350000</td>\n",
              "      <td>84.575000</td>\n",
              "      <td>95.500000</td>\n",
              "      <td>56.000000</td>\n",
              "      <td>36.975000</td>\n",
              "      <td>22.000000</td>\n",
              "      <td>30.200000</td>\n",
              "      <td>27.300000</td>\n",
              "      <td>17.600000</td>\n",
              "    </tr>\n",
              "    <tr>\n",
              "      <th>50%</th>\n",
              "      <td>1.054900</td>\n",
              "      <td>19.200000</td>\n",
              "      <td>43.000000</td>\n",
              "      <td>176.500000</td>\n",
              "      <td>70.000000</td>\n",
              "      <td>38.000000</td>\n",
              "      <td>99.650000</td>\n",
              "      <td>90.950000</td>\n",
              "      <td>99.300000</td>\n",
              "      <td>59.000000</td>\n",
              "      <td>38.500000</td>\n",
              "      <td>22.800000</td>\n",
              "      <td>32.050000</td>\n",
              "      <td>28.700000</td>\n",
              "      <td>18.300000</td>\n",
              "    </tr>\n",
              "    <tr>\n",
              "      <th>75%</th>\n",
              "      <td>1.070400</td>\n",
              "      <td>25.300000</td>\n",
              "      <td>54.000000</td>\n",
              "      <td>197.000000</td>\n",
              "      <td>72.250000</td>\n",
              "      <td>39.425000</td>\n",
              "      <td>105.375000</td>\n",
              "      <td>99.325000</td>\n",
              "      <td>103.525000</td>\n",
              "      <td>62.350000</td>\n",
              "      <td>39.925000</td>\n",
              "      <td>24.000000</td>\n",
              "      <td>34.325000</td>\n",
              "      <td>30.000000</td>\n",
              "      <td>18.800000</td>\n",
              "    </tr>\n",
              "    <tr>\n",
              "      <th>max</th>\n",
              "      <td>1.108900</td>\n",
              "      <td>47.500000</td>\n",
              "      <td>81.000000</td>\n",
              "      <td>363.150000</td>\n",
              "      <td>77.750000</td>\n",
              "      <td>51.200000</td>\n",
              "      <td>136.200000</td>\n",
              "      <td>148.100000</td>\n",
              "      <td>147.700000</td>\n",
              "      <td>87.300000</td>\n",
              "      <td>49.100000</td>\n",
              "      <td>33.900000</td>\n",
              "      <td>45.000000</td>\n",
              "      <td>34.900000</td>\n",
              "      <td>21.400000</td>\n",
              "    </tr>\n",
              "  </tbody>\n",
              "</table>\n",
              "</div>"
            ],
            "text/plain": [
              "          Density     BodyFat         Age      Weight      Height        Neck  \\\n",
              "count  252.000000  252.000000  252.000000  252.000000  252.000000  252.000000   \n",
              "mean     1.055574   19.150794   44.884921  178.924405   70.148810   37.992063   \n",
              "std      0.019031    8.368740   12.602040   29.389160    3.662856    2.430913   \n",
              "min      0.995000    0.000000   22.000000  118.500000   29.500000   31.100000   \n",
              "25%      1.041400   12.475000   35.750000  159.000000   68.250000   36.400000   \n",
              "50%      1.054900   19.200000   43.000000  176.500000   70.000000   38.000000   \n",
              "75%      1.070400   25.300000   54.000000  197.000000   72.250000   39.425000   \n",
              "max      1.108900   47.500000   81.000000  363.150000   77.750000   51.200000   \n",
              "\n",
              "            Chest     Abdomen         Hip       Thigh        Knee       Ankle  \\\n",
              "count  252.000000  252.000000  252.000000  252.000000  252.000000  252.000000   \n",
              "mean   100.824206   92.555952   99.904762   59.405952   38.590476   23.102381   \n",
              "std      8.430476   10.783077    7.164058    5.249952    2.411805    1.694893   \n",
              "min     79.300000   69.400000   85.000000   47.200000   33.000000   19.100000   \n",
              "25%     94.350000   84.575000   95.500000   56.000000   36.975000   22.000000   \n",
              "50%     99.650000   90.950000   99.300000   59.000000   38.500000   22.800000   \n",
              "75%    105.375000   99.325000  103.525000   62.350000   39.925000   24.000000   \n",
              "max    136.200000  148.100000  147.700000   87.300000   49.100000   33.900000   \n",
              "\n",
              "           Biceps     Forearm       Wrist  \n",
              "count  252.000000  252.000000  252.000000  \n",
              "mean    32.273413   28.663889   18.229762  \n",
              "std      3.021274    2.020691    0.933585  \n",
              "min     24.800000   21.000000   15.800000  \n",
              "25%     30.200000   27.300000   17.600000  \n",
              "50%     32.050000   28.700000   18.300000  \n",
              "75%     34.325000   30.000000   18.800000  \n",
              "max     45.000000   34.900000   21.400000  "
            ]
          },
          "metadata": {},
          "execution_count": 30
        }
      ],
      "metadata": {
        "colab": {
          "base_uri": "https://localhost:8080/",
          "height": 300
        },
        "id": "KIuMrxtwN3-G",
        "outputId": "b19e181b-a659-4b9a-f2a5-143f6a28a9c9"
      }
    },
    {
      "cell_type": "markdown",
      "source": [
        "### Check for Missing Values"
      ],
      "metadata": {
        "id": "0jmDH4eTNUw3"
      }
    },
    {
      "cell_type": "code",
      "execution_count": 31,
      "source": [
        "df.isnull().values.any()"
      ],
      "outputs": [
        {
          "output_type": "execute_result",
          "data": {
            "text/plain": [
              "False"
            ]
          },
          "metadata": {},
          "execution_count": 31
        }
      ],
      "metadata": {
        "colab": {
          "base_uri": "https://localhost:8080/"
        },
        "id": "o0WiC_0XM90O",
        "outputId": "1eb7f1ea-9a07-4e4c-c685-ac5d8dea6c54"
      }
    },
    {
      "cell_type": "code",
      "execution_count": 32,
      "source": [
        "df.isnull().sum()"
      ],
      "outputs": [
        {
          "output_type": "execute_result",
          "data": {
            "text/plain": [
              "Density    0\n",
              "BodyFat    0\n",
              "Age        0\n",
              "Weight     0\n",
              "Height     0\n",
              "Neck       0\n",
              "Chest      0\n",
              "Abdomen    0\n",
              "Hip        0\n",
              "Thigh      0\n",
              "Knee       0\n",
              "Ankle      0\n",
              "Biceps     0\n",
              "Forearm    0\n",
              "Wrist      0\n",
              "dtype: int64"
            ]
          },
          "metadata": {},
          "execution_count": 32
        }
      ],
      "metadata": {
        "colab": {
          "base_uri": "https://localhost:8080/"
        },
        "id": "MaabPSNaM92m",
        "outputId": "380d75b3-7175-40ae-f6bb-dc52c97a58e5"
      }
    },
    {
      "cell_type": "markdown",
      "source": [
        "### Drop Density\n",
        "Since according to the dataset [task](https://www.kaggle.com/fedesoriano/body-fat-prediction-dataset/tasks?taskId=4775), the body fat (target) is calculated directly with the density."
      ],
      "metadata": {
        "id": "Hc4c96HTOnP2"
      }
    },
    {
      "cell_type": "code",
      "execution_count": 33,
      "source": [
        "df.drop(['Density'], axis=1, inplace=True)"
      ],
      "outputs": [],
      "metadata": {
        "id": "hhiSkSn0M94_"
      }
    },
    {
      "cell_type": "markdown",
      "source": [
        "### Pair Plot"
      ],
      "metadata": {
        "id": "IqdL8wysPgpv"
      }
    },
    {
      "cell_type": "code",
      "execution_count": 34,
      "source": [
        "# sns.pairplot(df)"
      ],
      "outputs": [],
      "metadata": {
        "id": "fDoildLVM97O"
      }
    },
    {
      "cell_type": "markdown",
      "source": [
        "### Correlation matrix with heatmap"
      ],
      "metadata": {
        "id": "c-TGYvoOP7mQ"
      }
    },
    {
      "cell_type": "code",
      "execution_count": 35,
      "source": [
        "corr = df.corr()\r\n",
        "plt.figure(figsize=(15,8))\r\n",
        "sns.heatmap(corr, annot=True, cmap='mako')"
      ],
      "outputs": [
        {
          "output_type": "execute_result",
          "data": {
            "text/plain": [
              "<AxesSubplot:>"
            ]
          },
          "metadata": {},
          "execution_count": 35
        },
        {
          "output_type": "display_data",
          "data": {
            "image/png": "[encoded data removed]",
            "text/plain": [
              "<Figure size 1080x576 with 2 Axes>"
            ]
          },
          "metadata": {
            "needs_background": "light"
          }
        }
      ],
      "metadata": {
        "colab": {
          "base_uri": "https://localhost:8080/",
          "height": 504
        },
        "id": "mqfF2FBjQiKW",
        "outputId": "6fe261f0-e1a0-4c44-d6e8-72b66106172d"
      }
    },
    {
      "cell_type": "markdown",
      "source": [
        "### Define Independent and Dependent Variables"
      ],
      "metadata": {
        "id": "jJdR-qk7RPjH"
      }
    },
    {
      "cell_type": "code",
      "execution_count": 36,
      "source": [
        "X = df.iloc[:, 1:] # slice all columns excluding the first\r\n",
        "y = df.iloc[:, 0] # slice all columns including only the first\r\n",
        "\r\n",
        "X.head(2)"
      ],
      "outputs": [
        {
          "output_type": "execute_result",
          "data": {
            "text/html": [
              "<div>\n",
              "<style scoped>\n",
              "    .dataframe tbody tr th:only-of-type {\n",
              "        vertical-align: middle;\n",
              "    }\n",
              "\n",
              "    .dataframe tbody tr th {\n",
              "        vertical-align: top;\n",
              "    }\n",
              "\n",
              "    .dataframe thead th {\n",
              "        text-align: right;\n",
              "    }\n",
              "</style>\n",
              "<table border=\"1\" class=\"dataframe\">\n",
              "  <thead>\n",
              "    <tr style=\"text-align: right;\">\n",
              "      <th></th>\n",
              "      <th>Age</th>\n",
              "      <th>Weight</th>\n",
              "      <th>Height</th>\n",
              "      <th>Neck</th>\n",
              "      <th>Chest</th>\n",
              "      <th>Abdomen</th>\n",
              "      <th>Hip</th>\n",
              "      <th>Thigh</th>\n",
              "      <th>Knee</th>\n",
              "      <th>Ankle</th>\n",
              "      <th>Biceps</th>\n",
              "      <th>Forearm</th>\n",
              "      <th>Wrist</th>\n",
              "    </tr>\n",
              "  </thead>\n",
              "  <tbody>\n",
              "    <tr>\n",
              "      <th>0</th>\n",
              "      <td>23</td>\n",
              "      <td>154.25</td>\n",
              "      <td>67.75</td>\n",
              "      <td>36.2</td>\n",
              "      <td>93.1</td>\n",
              "      <td>85.2</td>\n",
              "      <td>94.5</td>\n",
              "      <td>59.0</td>\n",
              "      <td>37.3</td>\n",
              "      <td>21.9</td>\n",
              "      <td>32.0</td>\n",
              "      <td>27.4</td>\n",
              "      <td>17.1</td>\n",
              "    </tr>\n",
              "    <tr>\n",
              "      <th>1</th>\n",
              "      <td>22</td>\n",
              "      <td>173.25</td>\n",
              "      <td>72.25</td>\n",
              "      <td>38.5</td>\n",
              "      <td>93.6</td>\n",
              "      <td>83.0</td>\n",
              "      <td>98.7</td>\n",
              "      <td>58.7</td>\n",
              "      <td>37.3</td>\n",
              "      <td>23.4</td>\n",
              "      <td>30.5</td>\n",
              "      <td>28.9</td>\n",
              "      <td>18.2</td>\n",
              "    </tr>\n",
              "  </tbody>\n",
              "</table>\n",
              "</div>"
            ],
            "text/plain": [
              "   Age  Weight  Height  Neck  Chest  Abdomen   Hip  Thigh  Knee  Ankle  \\\n",
              "0   23  154.25   67.75  36.2   93.1     85.2  94.5   59.0  37.3   21.9   \n",
              "1   22  173.25   72.25  38.5   93.6     83.0  98.7   58.7  37.3   23.4   \n",
              "\n",
              "   Biceps  Forearm  Wrist  \n",
              "0    32.0     27.4   17.1  \n",
              "1    30.5     28.9   18.2  "
            ]
          },
          "metadata": {},
          "execution_count": 36
        }
      ],
      "metadata": {
        "colab": {
          "base_uri": "https://localhost:8080/",
          "height": 112
        },
        "id": "bBJyvDquQiOW",
        "outputId": "03509f90-b934-42a8-a321-8667cf41696c"
      }
    },
    {
      "cell_type": "code",
      "execution_count": 37,
      "source": [
        "pd.DataFrame(y.head(2))"
      ],
      "outputs": [
        {
          "output_type": "execute_result",
          "data": {
            "text/html": [
              "<div>\n",
              "<style scoped>\n",
              "    .dataframe tbody tr th:only-of-type {\n",
              "        vertical-align: middle;\n",
              "    }\n",
              "\n",
              "    .dataframe tbody tr th {\n",
              "        vertical-align: top;\n",
              "    }\n",
              "\n",
              "    .dataframe thead th {\n",
              "        text-align: right;\n",
              "    }\n",
              "</style>\n",
              "<table border=\"1\" class=\"dataframe\">\n",
              "  <thead>\n",
              "    <tr style=\"text-align: right;\">\n",
              "      <th></th>\n",
              "      <th>BodyFat</th>\n",
              "    </tr>\n",
              "  </thead>\n",
              "  <tbody>\n",
              "    <tr>\n",
              "      <th>0</th>\n",
              "      <td>12.3</td>\n",
              "    </tr>\n",
              "    <tr>\n",
              "      <th>1</th>\n",
              "      <td>6.1</td>\n",
              "    </tr>\n",
              "  </tbody>\n",
              "</table>\n",
              "</div>"
            ],
            "text/plain": [
              "   BodyFat\n",
              "0     12.3\n",
              "1      6.1"
            ]
          },
          "metadata": {},
          "execution_count": 37
        }
      ],
      "metadata": {
        "colab": {
          "base_uri": "https://localhost:8080/",
          "height": 112
        },
        "id": "v62np3cVQiQH",
        "outputId": "7c3a1640-4eec-468e-a0ea-0d9d2008a72a"
      }
    },
    {
      "cell_type": "code",
      "execution_count": 38,
      "source": [
        "import statsmodels.api as sm\r\n",
        "\r\n",
        "const = sm.add_constant(X)\r\n",
        "model = sm.OLS(y, const).fit()\r\n",
        "model.summary()"
      ],
      "outputs": [
        {
          "output_type": "execute_result",
          "data": {
            "text/html": [
              "<table class=\"simpletable\">\n",
              "<caption>OLS Regression Results</caption>\n",
              "<tr>\n",
              "  <th>Dep. Variable:</th>         <td>BodyFat</td>     <th>  R-squared:         </th> <td>   0.749</td>\n",
              "</tr>\n",
              "<tr>\n",
              "  <th>Model:</th>                   <td>OLS</td>       <th>  Adj. R-squared:    </th> <td>   0.735</td>\n",
              "</tr>\n",
              "<tr>\n",
              "  <th>Method:</th>             <td>Least Squares</td>  <th>  F-statistic:       </th> <td>   54.65</td>\n",
              "</tr>\n",
              "<tr>\n",
              "  <th>Date:</th>             <td>Tue, 05 Oct 2021</td> <th>  Prob (F-statistic):</th> <td>7.72e-64</td>\n",
              "</tr>\n",
              "<tr>\n",
              "  <th>Time:</th>                 <td>15:25:38</td>     <th>  Log-Likelihood:    </th> <td> -718.25</td>\n",
              "</tr>\n",
              "<tr>\n",
              "  <th>No. Observations:</th>      <td>   252</td>      <th>  AIC:               </th> <td>   1465.</td>\n",
              "</tr>\n",
              "<tr>\n",
              "  <th>Df Residuals:</th>          <td>   238</td>      <th>  BIC:               </th> <td>   1514.</td>\n",
              "</tr>\n",
              "<tr>\n",
              "  <th>Df Model:</th>              <td>    13</td>      <th>                     </th>     <td> </td>   \n",
              "</tr>\n",
              "<tr>\n",
              "  <th>Covariance Type:</th>      <td>nonrobust</td>    <th>                     </th>     <td> </td>   \n",
              "</tr>\n",
              "</table>\n",
              "<table class=\"simpletable\">\n",
              "<tr>\n",
              "     <td></td>        <th>coef</th>     <th>std err</th>      <th>t</th>      <th>P>|t|</th>  <th>[0.025</th>    <th>0.975]</th>  \n",
              "</tr>\n",
              "<tr>\n",
              "  <th>const</th>   <td>  -18.1885</td> <td>   17.349</td> <td>   -1.048</td> <td> 0.296</td> <td>  -52.365</td> <td>   15.988</td>\n",
              "</tr>\n",
              "<tr>\n",
              "  <th>Age</th>     <td>    0.0621</td> <td>    0.032</td> <td>    1.919</td> <td> 0.056</td> <td>   -0.002</td> <td>    0.126</td>\n",
              "</tr>\n",
              "<tr>\n",
              "  <th>Weight</th>  <td>   -0.0884</td> <td>    0.054</td> <td>   -1.652</td> <td> 0.100</td> <td>   -0.194</td> <td>    0.017</td>\n",
              "</tr>\n",
              "<tr>\n",
              "  <th>Height</th>  <td>   -0.0696</td> <td>    0.096</td> <td>   -0.725</td> <td> 0.469</td> <td>   -0.259</td> <td>    0.120</td>\n",
              "</tr>\n",
              "<tr>\n",
              "  <th>Neck</th>    <td>   -0.4706</td> <td>    0.232</td> <td>   -2.024</td> <td> 0.044</td> <td>   -0.929</td> <td>   -0.013</td>\n",
              "</tr>\n",
              "<tr>\n",
              "  <th>Chest</th>   <td>   -0.0239</td> <td>    0.099</td> <td>   -0.241</td> <td> 0.810</td> <td>   -0.219</td> <td>    0.171</td>\n",
              "</tr>\n",
              "<tr>\n",
              "  <th>Abdomen</th> <td>    0.9548</td> <td>    0.086</td> <td>   11.044</td> <td> 0.000</td> <td>    0.784</td> <td>    1.125</td>\n",
              "</tr>\n",
              "<tr>\n",
              "  <th>Hip</th>     <td>   -0.2075</td> <td>    0.146</td> <td>   -1.422</td> <td> 0.156</td> <td>   -0.495</td> <td>    0.080</td>\n",
              "</tr>\n",
              "<tr>\n",
              "  <th>Thigh</th>   <td>    0.2361</td> <td>    0.144</td> <td>    1.636</td> <td> 0.103</td> <td>   -0.048</td> <td>    0.520</td>\n",
              "</tr>\n",
              "<tr>\n",
              "  <th>Knee</th>    <td>    0.0153</td> <td>    0.242</td> <td>    0.063</td> <td> 0.950</td> <td>   -0.461</td> <td>    0.492</td>\n",
              "</tr>\n",
              "<tr>\n",
              "  <th>Ankle</th>   <td>    0.1740</td> <td>    0.221</td> <td>    0.786</td> <td> 0.433</td> <td>   -0.262</td> <td>    0.610</td>\n",
              "</tr>\n",
              "<tr>\n",
              "  <th>Biceps</th>  <td>    0.1816</td> <td>    0.171</td> <td>    1.061</td> <td> 0.290</td> <td>   -0.156</td> <td>    0.519</td>\n",
              "</tr>\n",
              "<tr>\n",
              "  <th>Forearm</th> <td>    0.4520</td> <td>    0.199</td> <td>    2.270</td> <td> 0.024</td> <td>    0.060</td> <td>    0.844</td>\n",
              "</tr>\n",
              "<tr>\n",
              "  <th>Wrist</th>   <td>   -1.6206</td> <td>    0.535</td> <td>   -3.030</td> <td> 0.003</td> <td>   -2.674</td> <td>   -0.567</td>\n",
              "</tr>\n",
              "</table>\n",
              "<table class=\"simpletable\">\n",
              "<tr>\n",
              "  <th>Omnibus:</th>       <td> 4.404</td> <th>  Durbin-Watson:     </th> <td>   1.776</td>\n",
              "</tr>\n",
              "<tr>\n",
              "  <th>Prob(Omnibus):</th> <td> 0.111</td> <th>  Jarque-Bera (JB):  </th> <td>   2.820</td>\n",
              "</tr>\n",
              "<tr>\n",
              "  <th>Skew:</th>          <td>-0.012</td> <th>  Prob(JB):          </th> <td>   0.244</td>\n",
              "</tr>\n",
              "<tr>\n",
              "  <th>Kurtosis:</th>      <td> 2.482</td> <th>  Cond. No.          </th> <td>1.78e+04</td>\n",
              "</tr>\n",
              "</table><br/><br/>Notes:<br/>[1] Standard Errors assume that the covariance matrix of the errors is correctly specified.<br/>[2] The condition number is large, 1.78e+04. This might indicate that there are<br/>strong multicollinearity or other numerical problems."
            ],
            "text/plain": [
              "<class 'statsmodels.iolib.summary.Summary'>\n",
              "\"\"\"\n",
              "                            OLS Regression Results                            \n",
              "==============================================================================\n",
              "Dep. Variable:                BodyFat   R-squared:                       0.749\n",
              "Model:                            OLS   Adj. R-squared:                  0.735\n",
              "Method:                 Least Squares   F-statistic:                     54.65\n",
              "Date:                Tue, 05 Oct 2021   Prob (F-statistic):           7.72e-64\n",
              "Time:                        15:25:38   Log-Likelihood:                -718.25\n",
              "No. Observations:                 252   AIC:                             1465.\n",
              "Df Residuals:                     238   BIC:                             1514.\n",
              "Df Model:                          13                                         \n",
              "Covariance Type:            nonrobust                                         \n",
              "==============================================================================\n",
              "                 coef    std err          t      P>|t|      [0.025      0.975]\n",
              "------------------------------------------------------------------------------\n",
              "const        -18.1885     17.349     -1.048      0.296     -52.365      15.988\n",
              "Age            0.0621      0.032      1.919      0.056      -0.002       0.126\n",
              "Weight        -0.0884      0.054     -1.652      0.100      -0.194       0.017\n",
              "Height        -0.0696      0.096     -0.725      0.469      -0.259       0.120\n",
              "Neck          -0.4706      0.232     -2.024      0.044      -0.929      -0.013\n",
              "Chest         -0.0239      0.099     -0.241      0.810      -0.219       0.171\n",
              "Abdomen        0.9548      0.086     11.044      0.000       0.784       1.125\n",
              "Hip           -0.2075      0.146     -1.422      0.156      -0.495       0.080\n",
              "Thigh          0.2361      0.144      1.636      0.103      -0.048       0.520\n",
              "Knee           0.0153      0.242      0.063      0.950      -0.461       0.492\n",
              "Ankle          0.1740      0.221      0.786      0.433      -0.262       0.610\n",
              "Biceps         0.1816      0.171      1.061      0.290      -0.156       0.519\n",
              "Forearm        0.4520      0.199      2.270      0.024       0.060       0.844\n",
              "Wrist         -1.6206      0.535     -3.030      0.003      -2.674      -0.567\n",
              "==============================================================================\n",
              "Omnibus:                        4.404   Durbin-Watson:                   1.776\n",
              "Prob(Omnibus):                  0.111   Jarque-Bera (JB):                2.820\n",
              "Skew:                          -0.012   Prob(JB):                        0.244\n",
              "Kurtosis:                       2.482   Cond. No.                     1.78e+04\n",
              "==============================================================================\n",
              "\n",
              "Notes:\n",
              "[1] Standard Errors assume that the covariance matrix of the errors is correctly specified.\n",
              "[2] The condition number is large, 1.78e+04. This might indicate that there are\n",
              "strong multicollinearity or other numerical problems.\n",
              "\"\"\""
            ]
          },
          "metadata": {},
          "execution_count": 38
        }
      ],
      "metadata": {
        "colab": {
          "base_uri": "https://localhost:8080/",
          "height": 743
        },
        "id": "SrU1nzOliSuB",
        "outputId": "b15577be-67db-4ce2-f927-4e331730e1bd"
      }
    },
    {
      "cell_type": "markdown",
      "source": [
        "### Explore Feature Importance"
      ],
      "metadata": {
        "id": "Xion0ztGSEIf"
      }
    },
    {
      "cell_type": "code",
      "execution_count": 39,
      "source": [
        "from sklearn.ensemble import ExtraTreesRegressor\r\n",
        "\r\n",
        "et = ExtraTreesRegressor()\r\n",
        "et.fit(X, y)"
      ],
      "outputs": [
        {
          "output_type": "execute_result",
          "data": {
            "text/plain": [
              "ExtraTreesRegressor()"
            ]
          },
          "metadata": {},
          "execution_count": 39
        }
      ],
      "metadata": {
        "colab": {
          "base_uri": "https://localhost:8080/"
        },
        "id": "pc271mvVRlNL",
        "outputId": "67c83568-34dd-4f3e-90ae-caad53add3e7"
      }
    },
    {
      "cell_type": "code",
      "execution_count": 40,
      "source": [
        "best_features = pd.Series(et.feature_importances_, index=X.columns)\r\n",
        "best_features.nlargest(len(X.columns)).plot(kind='barh')"
      ],
      "outputs": [
        {
          "output_type": "execute_result",
          "data": {
            "text/plain": [
              "<AxesSubplot:>"
            ]
          },
          "metadata": {},
          "execution_count": 40
        },
        {
          "output_type": "display_data",
          "data": {
            "image/png": "[encoded data removed]",
            "text/plain": [
              "<Figure size 432x288 with 1 Axes>"
            ]
          },
          "metadata": {
            "needs_background": "light"
          }
        }
      ],
      "metadata": {
        "colab": {
          "base_uri": "https://localhost:8080/",
          "height": 282
        },
        "id": "SgJ0q8duSNr0",
        "outputId": "cf4067f9-e41a-4f49-d4d2-1cd81ff34ddc"
      }
    },
    {
      "cell_type": "markdown",
      "source": [
        "### Split Dataset"
      ],
      "metadata": {
        "id": "_0jkl2ObSod_"
      }
    },
    {
      "cell_type": "code",
      "execution_count": 41,
      "source": [
        "from sklearn.model_selection import train_test_split\r\n",
        "\r\n",
        "X_train, X_test ,y_train, y_test = train_test_split(X, y, test_size=0.25, random_state=0)"
      ],
      "outputs": [],
      "metadata": {
        "id": "0LKPn3vhSXBF"
      }
    },
    {
      "cell_type": "markdown",
      "source": [
        "# **Train Regressor Models**"
      ],
      "metadata": {
        "id": "IrgmU63eS5uf"
      }
    },
    {
      "cell_type": "code",
      "execution_count": 42,
      "source": [
        "from sklearn.metrics import mean_absolute_error, mean_squared_error, r2_score\r\n",
        "from sklearn.linear_model import LinearRegression, Lasso, Ridge\r\n",
        "\r\n",
        "def train_model(regressor_model):\r\n",
        "  regressor_model.fit(X_train ,y_train)\r\n",
        "  y_pred = regressor_model.predict(X_test)\r\n",
        "  score = regressor_model.score(X_test, y_test)\r\n",
        "  rmse = np.sqrt(mean_squared_error(y_test, y_pred))\r\n",
        "\r\n",
        "  y_pred_df = pd.DataFrame({\r\n",
        "    'Actual Value': y_test,\r\n",
        "    'Predicted Value': y_pred,\r\n",
        "  })\r\n",
        "\r\n",
        "  print(f\"Score: {score}\")\r\n",
        "  print(f\"RMSE: {rmse}\\n\")\r\n",
        "  print(y_pred_df.head())"
      ],
      "outputs": [],
      "metadata": {
        "id": "SzXJM9vaXszY"
      }
    },
    {
      "cell_type": "markdown",
      "source": [
        "### *Linear Regression*"
      ],
      "metadata": {
        "id": "Ag5l_nF3lW2g"
      }
    },
    {
      "cell_type": "code",
      "execution_count": 43,
      "source": [
        "train_model(LinearRegression())"
      ],
      "outputs": [
        {
          "output_type": "stream",
          "name": "stdout",
          "text": [
            "Score: 0.7706925684367167\n",
            "RMSE: 3.880730569267365\n",
            "\n",
            "     Actual Value  Predicted Value\n",
            "158          12.5        12.354664\n",
            "83           27.0        21.142980\n",
            "170           3.0        12.085070\n",
            "101          20.4        19.858909\n",
            "150           9.4         9.097213\n"
          ]
        }
      ],
      "metadata": {
        "colab": {
          "base_uri": "https://localhost:8080/"
        },
        "id": "DzE1jySsaU4Q",
        "outputId": "3f764398-abe8-496d-e42d-e152af875c0d"
      }
    },
    {
      "cell_type": "markdown",
      "source": [
        "### **Hyperparameter Tuning**\n",
        "For Ridge and Lasso models"
      ],
      "metadata": {
        "id": "NTV7mC1cENNE"
      }
    },
    {
      "cell_type": "code",
      "execution_count": 44,
      "source": [
        "from sklearn.model_selection import GridSearchCV\r\n",
        "\r\n",
        "alpha_values = [1e-15, 1e-10, 1e-8, 1e-2, 1, 5, 10, 15, 20, 25, 30, 35, 40, 45, 55, 60, 65, 70, 75, 80, 85, 90, 95, 100]\r\n",
        "\r\n",
        "model_params = {\r\n",
        "    'Ridge': {\r\n",
        "        'model': Ridge(),\r\n",
        "        'params': {'alpha': alpha_values}\r\n",
        "    },\r\n",
        "    'Lasso': {\r\n",
        "        'model': Lasso(),\r\n",
        "        'params': {'alpha': alpha_values}\r\n",
        "    }\r\n",
        "}"
      ],
      "outputs": [],
      "metadata": {
        "id": "buh2tUKNELyO"
      }
    },
    {
      "cell_type": "code",
      "execution_count": 45,
      "source": [
        "scores = []\r\n",
        "\r\n",
        "for model_name, data in model_params.items():\r\n",
        "  regressor = GridSearchCV(data['model'], data['params'], cv=5)\r\n",
        "  regressor.fit(X, y)\r\n",
        "\r\n",
        "  scores.append({\r\n",
        "      'Model': model_name,\r\n",
        "      'Best Score': regressor.best_score_,\r\n",
        "      'Best Params': regressor.best_params_\r\n",
        "  })"
      ],
      "outputs": [
        {
          "output_type": "stream",
          "name": "stderr",
          "text": [
            "C:\\Users\\user\\anaconda3\\lib\\site-packages\\sklearn\\linear_model\\_coordinate_descent.py:529: ConvergenceWarning: Objective did not converge. You might want to increase the number of iterations. Duality gap: 1229.8948125928096, tolerance: 1.264589592039801\n",
            "  model = cd_fast.enet_coordinate_descent(\n",
            "C:\\Users\\user\\anaconda3\\lib\\site-packages\\sklearn\\linear_model\\_coordinate_descent.py:529: ConvergenceWarning: Objective did not converge. You might want to increase the number of iterations. Duality gap: 1288.6240033808365, tolerance: 1.4309761890547263\n",
            "  model = cd_fast.enet_coordinate_descent(\n",
            "C:\\Users\\user\\anaconda3\\lib\\site-packages\\sklearn\\linear_model\\_coordinate_descent.py:529: ConvergenceWarning: Objective did not converge. You might want to increase the number of iterations. Duality gap: 1131.8312875194424, tolerance: 1.6031040841584159\n",
            "  model = cd_fast.enet_coordinate_descent(\n",
            "C:\\Users\\user\\anaconda3\\lib\\site-packages\\sklearn\\linear_model\\_coordinate_descent.py:529: ConvergenceWarning: Objective did not converge. You might want to increase the number of iterations. Duality gap: 976.8763874998289, tolerance: 1.4346665198019803\n",
            "  model = cd_fast.enet_coordinate_descent(\n",
            "C:\\Users\\user\\anaconda3\\lib\\site-packages\\sklearn\\linear_model\\_coordinate_descent.py:529: ConvergenceWarning: Objective did not converge. You might want to increase the number of iterations. Duality gap: 1338.4651304566764, tolerance: 1.2877688366336635\n",
            "  model = cd_fast.enet_coordinate_descent(\n"
          ]
        }
      ],
      "metadata": {
        "colab": {
          "base_uri": "https://localhost:8080/"
        },
        "id": "J3CkTNUyGKnt",
        "outputId": "0c5667f0-8afd-44b3-d2b9-f59efdb72fd4"
      }
    },
    {
      "cell_type": "code",
      "execution_count": 46,
      "source": [
        "tuned_models_df = pd.DataFrame(scores, columns=['Model', 'Best Score', 'Best Params'])\r\n",
        "tuned_models_df"
      ],
      "outputs": [
        {
          "output_type": "execute_result",
          "data": {
            "text/html": [
              "<div>\n",
              "<style scoped>\n",
              "    .dataframe tbody tr th:only-of-type {\n",
              "        vertical-align: middle;\n",
              "    }\n",
              "\n",
              "    .dataframe tbody tr th {\n",
              "        vertical-align: top;\n",
              "    }\n",
              "\n",
              "    .dataframe thead th {\n",
              "        text-align: right;\n",
              "    }\n",
              "</style>\n",
              "<table border=\"1\" class=\"dataframe\">\n",
              "  <thead>\n",
              "    <tr style=\"text-align: right;\">\n",
              "      <th></th>\n",
              "      <th>Model</th>\n",
              "      <th>Best Score</th>\n",
              "      <th>Best Params</th>\n",
              "    </tr>\n",
              "  </thead>\n",
              "  <tbody>\n",
              "    <tr>\n",
              "      <th>0</th>\n",
              "      <td>Ridge</td>\n",
              "      <td>0.645302</td>\n",
              "      <td>{'alpha': 15}</td>\n",
              "    </tr>\n",
              "    <tr>\n",
              "      <th>1</th>\n",
              "      <td>Lasso</td>\n",
              "      <td>0.645257</td>\n",
              "      <td>{'alpha': 0.01}</td>\n",
              "    </tr>\n",
              "  </tbody>\n",
              "</table>\n",
              "</div>"
            ],
            "text/plain": [
              "   Model  Best Score      Best Params\n",
              "0  Ridge    0.645302    {'alpha': 15}\n",
              "1  Lasso    0.645257  {'alpha': 0.01}"
            ]
          },
          "metadata": {},
          "execution_count": 46
        }
      ],
      "metadata": {
        "colab": {
          "base_uri": "https://localhost:8080/",
          "height": 112
        },
        "id": "-BU-9DwuG8Ev",
        "outputId": "eb3a0d5a-25c5-42dc-beb7-5bbd6ac23b64"
      }
    },
    {
      "cell_type": "markdown",
      "source": [
        "### *Lasso Model*"
      ],
      "metadata": {
        "id": "AwClQ03NlrOQ"
      }
    },
    {
      "cell_type": "code",
      "execution_count": 47,
      "source": [
        "lasso = Lasso(alpha=0.01)\r\n",
        "train_model(lasso)"
      ],
      "outputs": [
        {
          "output_type": "stream",
          "name": "stdout",
          "text": [
            "Score: 0.7709470319980494\n",
            "RMSE: 3.878576738869812\n",
            "\n",
            "     Actual Value  Predicted Value\n",
            "158          12.5        12.294326\n",
            "83           27.0        21.142284\n",
            "170           3.0        12.103163\n",
            "101          20.4        19.835526\n",
            "150           9.4         9.112761\n"
          ]
        }
      ],
      "metadata": {
        "colab": {
          "base_uri": "https://localhost:8080/"
        },
        "id": "RvFo5BivaseA",
        "outputId": "55c365e0-b4fc-4b73-f63a-70e5e5b2d15c"
      }
    },
    {
      "cell_type": "markdown",
      "source": [
        "### *Ridge Regressor*"
      ],
      "metadata": {
        "id": "kf1FoWCElbfH"
      }
    },
    {
      "cell_type": "code",
      "execution_count": 48,
      "source": [
        "ridge = Ridge(alpha=15)\r\n",
        "train_model(ridge)"
      ],
      "outputs": [
        {
          "output_type": "stream",
          "name": "stdout",
          "text": [
            "Score: 0.7713553091260034\n",
            "RMSE: 3.8751184984889817\n",
            "\n",
            "     Actual Value  Predicted Value\n",
            "158          12.5        11.800518\n",
            "83           27.0        21.397196\n",
            "170           3.0        12.202375\n",
            "101          20.4        19.535189\n",
            "150           9.4         9.315689\n"
          ]
        }
      ],
      "metadata": {
        "colab": {
          "base_uri": "https://localhost:8080/"
        },
        "id": "iUqoLXhIawjQ",
        "outputId": "8f2f0349-1e4d-41c6-92ba-7a493bd73b71"
      }
    },
    {
      "cell_type": "markdown",
      "source": [
        "### Export Model"
      ],
      "metadata": {}
    },
    {
      "cell_type": "code",
      "execution_count": 49,
      "source": [
        "from joblib import dump, load\r\n",
        "\r\n",
        "# dump(ridge, 'ridge_regr_model.joblib')"
      ],
      "outputs": [
        {
          "output_type": "execute_result",
          "data": {
            "text/plain": [
              "['ridge_regr_model.joblib']"
            ]
          },
          "metadata": {},
          "execution_count": 49
        }
      ],
      "metadata": {}
    },
    {
      "cell_type": "code",
      "execution_count": 51,
      "source": [
        "ridge_regr_model = load('../models/ridge_regr_model.joblib')\r\n",
        "ridge_regr_model.predict([[23, 154.25, 67.75, 36.2, 93.1, 85.2, 94.5, 59.0, 37.3, 21.9, 32.0, 27.4, 17.1]])"
      ],
      "outputs": [
        {
          "output_type": "execute_result",
          "data": {
            "text/plain": [
              "array([16.85223934])"
            ]
          },
          "metadata": {},
          "execution_count": 51
        }
      ],
      "metadata": {}
    },
    {
      "cell_type": "markdown",
      "source": [
        "<!-- from joblib import dump, load\r\n",
        "\r\n",
        "dump(knn, 'ridge_regr_model.joblib') -->"
      ],
      "metadata": {}
    }
  ]
}